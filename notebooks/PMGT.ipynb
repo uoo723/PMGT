{
 "cells": [
  {
   "cell_type": "code",
   "execution_count": 1,
   "metadata": {},
   "outputs": [
    {
     "name": "stdout",
     "output_type": "stream",
     "text": [
      "/jupyter-lab/repo/PMGT\n"
     ]
    }
   ],
   "source": [
    "%load_ext autoreload\n",
    "%autoreload 2\n",
    "%config Completer.use_jedi = False\n",
    "%cd ../"
   ]
  },
  {
   "cell_type": "markdown",
   "metadata": {},
   "source": [
    "# Import Modules"
   ]
  },
  {
   "cell_type": "code",
   "execution_count": 118,
   "metadata": {},
   "outputs": [],
   "source": [
    "import gzip\n",
    "import json\n",
    "import os\n",
    "from collections import Counter\n",
    "\n",
    "import backoff\n",
    "import numpy as np\n",
    "import pandas as pd\n",
    "import requests\n",
    "import timm\n",
    "import torch\n",
    "from joblib import Parallel, delayed\n",
    "from PIL import Image\n",
    "from timm.data import resolve_data_config\n",
    "from timm.data.transforms_factory import create_transform\n",
    "from tqdm.auto import tqdm"
   ]
  },
  {
   "cell_type": "markdown",
   "metadata": {},
   "source": [
    "# Data Preprocessing\n",
    "\n",
    "[Amazon Review Datasets](https://nijianmo.github.io/amazon/index.html)\n",
    "- Video Games\n",
    "- Toys and Games\n",
    "- Tools and Home Improvement"
   ]
  },
  {
   "cell_type": "code",
   "execution_count": null,
   "metadata": {},
   "outputs": [],
   "source": [
    "!wget -P data/VG http://deepyeti.ucsd.edu/jianmo/amazon/categoryFilesSmall/Video_Games_5.json.gz\n",
    "!wget -P data/TG http://deepyeti.ucsd.edu/jianmo/amazon/categoryFilesSmall/Toys_and_Games_5.json.gz\n",
    "!wget -P data/THI http://deepyeti.ucsd.edu/jianmo/amazon/categoryFilesSmall/Tools_and_Home_Improvement_5.json.gz"
   ]
  },
  {
   "cell_type": "markdown",
   "metadata": {},
   "source": [
    "## Load Raw Data"
   ]
  },
  {
   "cell_type": "code",
   "execution_count": 103,
   "metadata": {},
   "outputs": [
    {
     "data": {
      "application/vnd.jupyter.widget-view+json": {
       "model_id": "ea573411e3bf43d893f1743f49f85078",
       "version_major": 2,
       "version_minor": 0
      },
      "text/plain": [
       "0it [00:00, ?it/s]"
      ]
     },
     "metadata": {},
     "output_type": "display_data"
    },
    {
     "data": {
      "text/plain": [
       "497577"
      ]
     },
     "execution_count": 103,
     "metadata": {},
     "output_type": "execute_result"
    }
   ],
   "source": [
    "data_dir = \"./data/VG\"\n",
    "filename = \"Video_Games_5.json.gz\"\n",
    "with gzip.open(os.path.join(data_dir, filename)) as f:\n",
    "    data = [json.loads(l.strip()) for l in tqdm(f)]\n",
    "\n",
    "df = pd.DataFrame.from_dict(data)\n",
    "len(df)"
   ]
  },
  {
   "cell_type": "markdown",
   "metadata": {},
   "source": [
    "## Download Images"
   ]
  },
  {
   "cell_type": "code",
   "execution_count": 93,
   "metadata": {},
   "outputs": [
    {
     "data": {
      "application/vnd.jupyter.widget-view+json": {
       "model_id": "d36304e16aef47b78c12cbd3de274af9",
       "version_major": 2,
       "version_minor": 0
      },
      "text/plain": [
       "  0%|          | 0/96514 [00:00<?, ?it/s]"
      ]
     },
     "metadata": {},
     "output_type": "display_data"
    },
    {
     "name": "stdout",
     "output_type": "stream",
     "text": [
      "96514\n",
      "73649\n",
      "21282\n"
     ]
    }
   ],
   "source": [
    "def _giveup(e):\n",
    "    return str(e) == \"404\"\n",
    "\n",
    "\n",
    "@backoff.on_exception(\n",
    "    backoff.expo,\n",
    "    (requests.exceptions.RequestException, requests.exceptions.ConnectionError),\n",
    "    max_time=30,\n",
    "    max_tries=5,\n",
    "    giveup=_giveup,\n",
    ")\n",
    "def download_image(filepath, image_url):\n",
    "    if os.path.exists(filepath):\n",
    "        return\n",
    "\n",
    "    try:\n",
    "        r = requests.get(image_url, stream=True)\n",
    "    except requests.exceptions.MissingSchema:\n",
    "        return\n",
    "\n",
    "    if r.status_code == 404:\n",
    "        return\n",
    "    elif r.status_code != 200:\n",
    "        raise requests.exceptions.RequestException(r.status_code)\n",
    "\n",
    "    with open(filepath, \"wb\") as f:\n",
    "        for chunk in r.iter_content(1024):\n",
    "            f.write(chunk)\n",
    "\n",
    "\n",
    "image_root_path = os.path.join(data_dir, \"images\")\n",
    "os.makedirs(image_root_path, exist_ok=True)\n",
    "\n",
    "download_list = []\n",
    "counter = Counter()\n",
    "\n",
    "for index, row in df[~pd.isna(df[\"image\"])].iterrows():\n",
    "    for i, image_url in enumerate(row[\"image\"]):\n",
    "        ext = os.path.splitext(image_url)[1]\n",
    "        item_id = row[\"asin\"]\n",
    "        filepath = os.path.join(image_root_path, item_id, f\"{counter[item_id]}{ext}\")\n",
    "        counter[item_id] += 1\n",
    "        download_list.append((filepath, image_url))\n",
    "\n",
    "        if not os.path.exists(os.path.dirname(filepath)):\n",
    "            os.makedirs(os.path.dirname(filepath), exist_ok=True)\n",
    "\n",
    "Parallel(n_jobs=50, prefer=\"threads\")(\n",
    "    delayed(download_image)(f, u) for f, u in tqdm(download_list)\n",
    ")\n",
    "\n",
    "print(len(download_list))\n",
    "print(len(df[\"asin\"].unique()))\n",
    "print(len(next(os.walk(image_root_path))[1]))"
   ]
  },
  {
   "cell_type": "markdown",
   "metadata": {},
   "source": [
    "## Extract Visual Features"
   ]
  },
  {
   "cell_type": "code",
   "execution_count": 135,
   "metadata": {
    "scrolled": true
   },
   "outputs": [],
   "source": [
    "model = timm.create_model(\"inception_v4\", pretrained=True)\n",
    "config = resolve_data_config({}, model=model)\n",
    "transform = create_transform(**config)\n",
    "_ = model.eval()"
   ]
  },
  {
   "cell_type": "code",
   "execution_count": 142,
   "metadata": {},
   "outputs": [
    {
     "data": {
      "text/plain": [
       "tensor([[0.1881, 0.0117, 0.1273,  ..., 0.1038, 0.2942, 0.2342]])"
      ]
     },
     "execution_count": 142,
     "metadata": {},
     "output_type": "execute_result"
    }
   ],
   "source": [
    "item_id = os.listdir(image_root_path)[0]\n",
    "filename = os.listdir(os.path.join(image_root_path, item_id))[0]\n",
    "filepath = os.path.join(image_root_path, item_id, filename)\n",
    "img = Image.open(filepath).convert(\"RGB\")\n",
    "tensor = transform(img).unsqueeze(0)\n",
    "\n",
    "with torch.no_grad():\n",
    "    feat = model.forward_features(tensor)\n",
    "    feat = model.global_pool(feat)\n",
    "    \n",
    "feat"
   ]
  }
 ],
 "metadata": {
  "kernelspec": {
   "display_name": "Python [conda env:pmgt]",
   "language": "python",
   "name": "conda-env-pmgt-py"
  },
  "language_info": {
   "codemirror_mode": {
    "name": "ipython",
    "version": 3
   },
   "file_extension": ".py",
   "mimetype": "text/x-python",
   "name": "python",
   "nbconvert_exporter": "python",
   "pygments_lexer": "ipython3",
   "version": "3.7.2"
  }
 },
 "nbformat": 4,
 "nbformat_minor": 4
}
